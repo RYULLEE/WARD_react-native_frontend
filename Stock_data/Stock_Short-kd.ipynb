{
 "cells": [
  {
   "cell_type": "code",
   "execution_count": 1,
   "id": "8e9b6e0b-9183-440e-bc70-e01b250a118e",
   "metadata": {},
   "outputs": [],
   "source": [
    "from pykrx import stock\n",
    "from tqdm import tqdm\n",
    "import pandas as pd\n",
    "import FinanceDataReader as fdr\n",
    "\n",
    "stocks = fdr.StockListing('KRX')['Symbol']\n",
    "\n",
    "def date_to_str(df) :\n",
    "    tmp = pd.DataFrame(df.index)\n",
    "    print(len(tmp))\n",
    "    for i in range(len(tmp)) :\n",
    "        tmp.loc[i,'날짜'] = str(tmp.loc[i,'날짜'])[0:4]+str(tmp.loc[i,'날짜'])[5:7]+str(tmp.loc[i,'날짜'])[8:10]\n",
    "    return tmp\n",
    "\n",
    "def start_end_date(code) :\n",
    "    try : \n",
    "        df2 = fdr.DataReader(code)\n",
    "    except : \n",
    "        df2 = fdr.DataReader(code, exchange='KRX-DELISTING')\n",
    "    if len(df2) == 0:\n",
    "        return 0\n",
    "    start_date = str(df2.index[0])[0:4]+str(df2.index[0])[5:7]+str(df2.index[0])[8:10]\n",
    "    end_date = str(df2.index[-1])[0:4]+str(df2.index[-1])[5:7]+str(df2.index[-1])[8:10]\n",
    "    if int(start_date) < int('20010101') :\n",
    "        start_date = '20010101'\n",
    "    return [start_date, end_date]"
   ]
  },
  {
   "cell_type": "code",
   "execution_count": 2,
   "id": "cada5d7c-af12-4db1-b698-a1649dfbafb7",
   "metadata": {},
   "outputs": [
    {
     "name": "stdout",
     "output_type": "stream",
     "text": [
      "5133\n",
      "5133\n",
      "DatetimeIndex(['2001-01-02', '2001-01-03', '2001-01-04', '2001-01-05',\n",
      "               '2001-01-08', '2001-01-09', '2001-01-10', '2001-01-11',\n",
      "               '2001-01-12', '2001-01-15',\n",
      "               ...\n",
      "               '2021-09-24', '2021-09-27', '2021-09-28', '2021-09-29',\n",
      "               '2021-09-30', '2021-10-01', '2021-10-05', '2021-10-06',\n",
      "               '2021-10-07', '2021-10-08'],\n",
      "              dtype='datetime64[ns]', name='날짜', length=5133, freq=None)\n"
     ]
    }
   ],
   "source": [
    "# 삼성전자, SK하이닉스로 2001.01.01~2021.10.11까지의 유효거래일 DF 생성\n",
    "# 5133일로 동일\n",
    "sk_df = stock.get_market_ohlcv_by_date(\"20010101\", \"20211011\", \"000660\") #20211011\n",
    "sm_df = stock.get_market_ohlcv_by_date(\"20010101\", \"20211011\", \"005930\")\n",
    "sk = date_to_str(sk_df)\n",
    "sm = date_to_str(sm_df)\n",
    "date_df = pd.merge(sm, sk, left_on='날짜', right_on='날짜', how='outer')\n",
    "date_df_stamp = sk_df.index\n",
    "print(sk_df.index)"
   ]
  },
  {
   "cell_type": "code",
   "execution_count": 3,
   "id": "a8cb767b-f707-422c-acbe-2ff0e71aa15d",
   "metadata": {},
   "outputs": [],
   "source": [
    "kd = pd.read_csv ('G:\\\\공유 드라이브\\\\WARD\\\\Stock_Price\\\\SP_o_kd.csv', dtype=object)\n",
    "\n",
    "for i in range(len(kd['티커'])) :\n",
    "    kd.loc[i, '티커'] = str(kd['티커'][i]).zfill(6)"
   ]
  },
  {
   "cell_type": "code",
   "execution_count": 4,
   "id": "4c05d818-774a-459f-9459-0fe213e86614",
   "metadata": {},
   "outputs": [
    {
     "name": "stderr",
     "output_type": "stream",
     "text": [
      "100%|████████████████████████████████████████████████████████████████████████████| 2240/2240 [8:10:23<00:00, 13.14s/it]\n"
     ]
    }
   ],
   "source": [
    "# KOSDAQ - Short\n",
    "\n",
    "Short_v =  pd.DataFrame(index = date_df_stamp) # 공매도\n",
    "Short_l = pd.DataFrame(index = date_df_stamp)  # 공매도 잔고\n",
    "Short_vc = pd.DataFrame(index = date_df_stamp) # 공매도 금액\n",
    "Short_lc = pd.DataFrame(index = date_df_stamp) # 공매도 잔고 금액\n",
    "\n",
    "i = 0\n",
    "code = kd['티커'][i]\n",
    "date = start_end_date(code)\n",
    "if date != 0 :\n",
    "    try :\n",
    "        df = stock.get_shorting_status_by_date(date[0], date[1], code)\n",
    "\n",
    "        df_v = df['거래량'].rename(code)\n",
    "        df_l = df['잔고수량'].rename(code)\n",
    "        df_vc = df['거래대금'].rename(code)\n",
    "        df_lc = df['잔고금액'].rename(code)\n",
    "\n",
    "        Short_v = pd.merge(Short_v, df_v , left_on='날짜', right_on='날짜', how='outer')\n",
    "        Short_l = pd.merge(Short_l, df_l , left_on='날짜', right_on='날짜', how='outer')\n",
    "        Short_vc = pd.merge(Short_vc, df_vc , left_on='날짜', right_on='날짜', how='outer')\n",
    "        Short_lc = pd.merge(Short_lc, df_lc , left_on='날짜', right_on='날짜', how='outer')\n",
    "    except :\n",
    "        print(\"pass\")\n",
    "\n",
    "for i in tqdm(range(len(kd['티커']))):\n",
    "    code = kd['티커'][i]\n",
    "    date = start_end_date(code)\n",
    "    if date == 0 :\n",
    "        continue\n",
    "    try :\n",
    "        df = stock.get_shorting_status_by_date(date[0], date[1], code)\n",
    "    except :\n",
    "        print(\"pass\")\n",
    "    df_v = df['거래량'].rename(code)\n",
    "    df_l = df['잔고수량'].rename(code)\n",
    "    df_vc = df['거래대금'].rename(code)\n",
    "    df_lc = df['잔고금액'].rename(code)\n",
    "\n",
    "\n",
    "    Short_v = pd.merge(Short_v, df_v , left_on='날짜', right_on='날짜', how='outer')\n",
    "    Short_l = pd.merge(Short_l, df_l , left_on='날짜', right_on='날짜', how='outer')\n",
    "    Short_vc = pd.merge(Short_vc, df_vc , left_on='날짜', right_on='날짜', how='outer')\n",
    "    Short_lc = pd.merge(Short_lc, df_lc , left_on='날짜', right_on='날짜', how='outer')\n",
    "    \n",
    "Short_v =  Short_v.transpose()\n",
    "Short_l = Short_l.transpose()\n",
    "Short_vc = Short_vc.transpose()\n",
    "Short_lc = Short_lc.transpose()\n",
    "\n",
    "Short_v.to_csv('Short_v_kd.csv', index = True, header = True)\n",
    "Short_l.to_csv('Short_l_kd.csv', index = True, header = True)\n",
    "Short_vc.to_csv('Short_vc_kd.csv', index = True, header = True)\n",
    "Short_lc.to_csv('Short_lc_kd.csv', index = True, header = True)"
   ]
  },
  {
   "cell_type": "code",
   "execution_count": null,
   "id": "dcd3e668-917f-457b-840a-511fd394d982",
   "metadata": {},
   "outputs": [],
   "source": []
  }
 ],
 "metadata": {
  "kernelspec": {
   "display_name": "Python 3 (ipykernel)",
   "language": "python",
   "name": "python3"
  },
  "language_info": {
   "codemirror_mode": {
    "name": "ipython",
    "version": 3
   },
   "file_extension": ".py",
   "mimetype": "text/x-python",
   "name": "python",
   "nbconvert_exporter": "python",
   "pygments_lexer": "ipython3",
   "version": "3.9.2"
  }
 },
 "nbformat": 4,
 "nbformat_minor": 5
}
