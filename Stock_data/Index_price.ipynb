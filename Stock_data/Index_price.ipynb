{
 "cells": [
  {
   "cell_type": "code",
   "execution_count": 13,
   "id": "8e9b6e0b-9183-440e-bc70-e01b250a118e",
   "metadata": {},
   "outputs": [],
   "source": [
    "from pykrx import stock\n",
    "from tqdm import tqdm\n",
    "import time\n",
    "import pandas as pd\n",
    "import FinanceDataReader as fdr\n",
    "pd.set_option('display.max_columns', None)\n",
    "pd.set_option('display.max_rows', 20)\n",
    "\n",
    "stocks = fdr.StockListing('KRX')['Symbol']\n",
    "\n",
    "def date_to_str(df) :\n",
    "    tmp = pd.DataFrame(df.index)\n",
    "    print(len(tmp))\n",
    "    for i in range(len(tmp)) :\n",
    "        tmp.loc[i,'날짜'] = str(tmp.loc[i,'날짜'])[0:4]+str(tmp.loc[i,'날짜'])[5:7]+str(tmp.loc[i,'날짜'])[8:10]\n",
    "    return tmp\n",
    "\n",
    "def start_end_date(code) :\n",
    "    try : \n",
    "        print(code)\n",
    "        df2 = fdr.DataReader(code)\n",
    "    except : \n",
    "        print(code)\n",
    "        df2 = fdr.DataReader(code, exchange='KRX-DELISTING')\n",
    "    if len(df2) == 0:\n",
    "        print('0')\n",
    "        return 0\n",
    "    start_date = str(df2.index[0])[0:4]+str(df2.index[0])[5:7]+str(df2.index[0])[8:10]\n",
    "    end_date = str(df2.index[-1])[0:4]+str(df2.index[-1])[5:7]+str(df2.index[-1])[8:10]\n",
    "    if int(start_date) < int('20010101') :\n",
    "        start_date = '20010101'\n",
    "    return [start_date, end_date]"
   ]
  },
  {
   "cell_type": "code",
   "execution_count": 14,
   "id": "cada5d7c-af12-4db1-b698-a1649dfbafb7",
   "metadata": {},
   "outputs": [
    {
     "name": "stdout",
     "output_type": "stream",
     "text": [
      "2653\n",
      "2653\n",
      "DatetimeIndex(['2011-01-03', '2011-01-04', '2011-01-05', '2011-01-06',\n",
      "               '2011-01-07', '2011-01-10', '2011-01-11', '2011-01-12',\n",
      "               '2011-01-13', '2011-01-14',\n",
      "               ...\n",
      "               '2021-09-24', '2021-09-27', '2021-09-28', '2021-09-29',\n",
      "               '2021-09-30', '2021-10-01', '2021-10-05', '2021-10-06',\n",
      "               '2021-10-07', '2021-10-08'],\n",
      "              dtype='datetime64[ns]', name='날짜', length=2653, freq=None)\n"
     ]
    }
   ],
   "source": [
    "# 삼성전자, SK하이닉스로 2001.01.01~2021.10.11까지의 유효거래일 DF 생성\n",
    "# 5133일로 동일\n",
    "sk_df = stock.get_market_ohlcv_by_date(\"20110101\", \"20211011\", \"000660\") #20211011\n",
    "sm_df = stock.get_market_ohlcv_by_date(\"20110101\", \"20211011\", \"005930\")\n",
    "sk = date_to_str(sk_df)\n",
    "sm = date_to_str(sm_df)\n",
    "date_df = pd.merge(sm, sk, left_on='날짜', right_on='날짜', how='outer')\n",
    "date_df_stamp = sk_df.index\n",
    "print(sk_df.index)"
   ]
  },
  {
   "cell_type": "code",
   "execution_count": 15,
   "id": "cc7f652a-403b-4d08-9c4c-173b71e5bf31",
   "metadata": {},
   "outputs": [
    {
     "name": "stdout",
     "output_type": "stream",
     "text": [
      "                        시가       종가       등락률          거래량            거래대금\n",
      "지수명                                                                       \n",
      "코스닥                 696.36   724.59  4.050781  10488319776  62986196230829\n",
      "코스닥 150            1065.42  1102.57  3.490234    729479528  18619100922088\n",
      "코스닥 150 정보기술        603.58   631.64  4.648438    268338653   5203201290465\n",
      "코스닥 150 헬스케어       3450.56  3532.41  2.369141    135927364   7874689575610\n",
      "코스닥 150 커뮤니케이션서비스  2037.30  2090.19  2.599609     25001250    816778277690\n",
      "...                    ...      ...       ...          ...             ...\n",
      "코스닥 소형주            2285.73  2387.53  4.449219   7150975272  24224003176345\n",
      "코스닥 우량기업부          1312.10  1355.88  3.339844   1917808808  25514140717966\n",
      "코스닥 벤처기업부          1494.98  1566.60  4.789062   1917465581   9194961598450\n",
      "코스닥 중견기업부          1440.69  1507.13  4.609375   5538422300  21010396782694\n",
      "코스닥 기술성장기업부        5395.23  5755.56  6.679688    348957489   6580691472020\n",
      "\n",
      "[50 rows x 5 columns]\n",
      "Index(['코스닥', '코스닥 150', '코스닥 150 정보기술', '코스닥 150 헬스케어', '코스닥 150 커뮤니케이션서비스',\n",
      "       '코스닥 150 소재', '코스닥 150 산업재', '코스닥 150 필수소비재', '코스닥 150 자유소비재', '기타서비스',\n",
      "       '코스닥 IT', '제조업', '건설', '유통', '운송', '금융', '오락·문화', '통신방송서비스',\n",
      "       'IT S/W & SVC', 'IT H/W', '음식료·담배', '섬유·의류', '종이·목재', '출판·매체복제', '화학',\n",
      "       '제약', '비금속', '금속', '기계·장비', '일반전기전자', '의료·정밀기기', '운송장비·부품', '기타제조',\n",
      "       '통신서비스', '방송서비스', '인터넷', '디지털컨텐츠', '소프트웨어', '컴퓨터서비스', '통신장비', '정보기기',\n",
      "       '반도체', 'IT부품', '코스닥 대형주', '코스닥 중형주', '코스닥 소형주', '코스닥 우량기업부',\n",
      "       '코스닥 벤처기업부', '코스닥 중견기업부', '코스닥 기술성장기업부'],\n",
      "      dtype='object', name='지수명')\n"
     ]
    }
   ],
   "source": [
    "# KOSDAQ\n",
    "\n",
    "# 받아올 데이터 저장할 행열 생성\n",
    "\n",
    "df = stock.get_index_price_change_by_ticker(\"20200520\", \"20200527\", \"KOSDAQ\")\n",
    "print(df)\n",
    "import sys\n",
    "mod = sys.modules[__name__]\n",
    "index_list = df.index\n",
    "for idx in range(len(df.index)) :\n",
    "    setattr(mod, 'Kd_idx_{}'.format(idx), [])\n",
    "\n",
    "print(index_list)\n"
   ]
  },
  {
   "cell_type": "code",
   "execution_count": 16,
   "metadata": {},
   "outputs": [
    {
     "name": "stderr",
     "output_type": "stream",
     "text": [
      "100%|██████████| 2652/2652 [54:18<00:00,  1.23s/it]\n",
      " 44%|████▍     | 22/50 [00:00<00:00, 43.71it/s]"
     ]
    },
    {
     "name": "stdout",
     "output_type": "stream",
     "text": [
      "IT S/W & SVC\n",
      "IT H/W\n"
     ]
    },
    {
     "name": "stderr",
     "output_type": "stream",
     "text": [
      "100%|██████████| 50/50 [00:01<00:00, 37.37it/s]\n"
     ]
    }
   ],
   "source": [
    "# 20010102 부터 하루씩 코스닥의 종류별 지수를 받아옴\n",
    " \n",
    "for i in tqdm(range(len(date_df)-1)) :\n",
    "    try : \n",
    "        df = stock.get_index_price_change_by_ticker(date_df.iloc[i].values[0], date_df.iloc[i+1].values[0], \"KOSDAQ\")\n",
    "        time.sleep(1)\n",
    "    except :\n",
    "        continue\n",
    "    for j in range(len(index_list)) :\n",
    "        if len(getattr(mod, 'Kd_idx_{}'.format(j)))==0 :\n",
    "            try : \n",
    "                tmp = pd.DataFrame(df.loc[index_list[j]])\n",
    "                tmp = tmp.transpose()\n",
    "                tmp.rename(index = {index_list[j] : date_df_stamp[i]}, inplace = True)\n",
    "                setattr(mod, 'Kd_idx_{}'.format(j),tmp)\n",
    "            except :\n",
    "                continue\n",
    "        else :\n",
    "            try : \n",
    "                tmp = pd.DataFrame(df.loc[index_list[j]])\n",
    "                tmp = tmp.transpose()\n",
    "                tmp.rename(index = {index_list[j] : date_df_stamp[i]}, inplace = True)\n",
    "                result = getattr(mod, 'Kd_idx_{}'.format(j)).append(tmp)\n",
    "                setattr(mod, 'Kd_idx_{}'.format(j),result)\n",
    "            except :\n",
    "                continue\n",
    "\n",
    "for j in tqdm(range(len(index_list))) :\n",
    "    try :\n",
    "        pd.DataFrame(getattr(mod, 'Kd_idx_{}'.format(j))).to_csv('Kd'+str(index_list[j])+'.csv', index = True, header = True)\n",
    "    except :\n",
    "        print (str(index_list[j]))\n"
   ]
  },
  {
   "cell_type": "code",
   "execution_count": 17,
   "metadata": {},
   "outputs": [
    {
     "name": "stdout",
     "output_type": "stream",
     "text": [
      "                       시가       종가       등락률         거래량            거래대금\n",
      "지수명                                                                     \n",
      "코스피               1980.61  2031.20  2.550781  4986224303  59536138219518\n",
      "코스피 200            261.79   267.64  2.230469  1013842486  38405608497693\n",
      "코스피 100           2008.94  2054.10  2.250000   641432999  33051548217828\n",
      "코스피 50            1809.93  1852.32  2.339844   367982667  28238216528794\n",
      "코스피 200 중소형주       777.16   802.42  3.250000   372409487   5354060279865\n",
      "...                   ...      ...       ...         ...             ...\n",
      "코스피 중형주           2079.18  2145.06  3.169922   966624765  12282601611076\n",
      "코스피 소형주           1702.59  1755.27  3.089844  3235511719  11157724709356\n",
      "코스피 200 비중상한 30%   261.79   267.64  2.230469  1013842486  38405608497693\n",
      "코스피 200 비중상한 25%   259.64   266.00  2.449219  1013842486  38405608497693\n",
      "코스피 200 비중상한 20%   253.16   259.95  2.679688  1013842486  38405608497693\n",
      "\n",
      "[46 rows x 5 columns]\n",
      "Index(['코스피', '코스피 200', '코스피 100', '코스피 50', '코스피 200 중소형주',\n",
      "       '코스피 200 초대형제외 지수', '코스피200제외 코스피지수', '코스피 200 커뮤니케이션서비스', '코스피 200 건설',\n",
      "       '코스피 200 중공업', '코스피 200 철강/소재', '코스피 200 에너지/화학', '코스피 200 정보기술',\n",
      "       '코스피 200 금융', '코스피 200 생활소비재', '코스피 200 경기소비재', '코스피 200 산업재',\n",
      "       '코스피 200 헬스케어', '음식료품', '섬유의복', '종이목재', '화학', '의약품', '비금속광물', '철강금속',\n",
      "       '기계', '전기전자', '의료정밀', '운수장비', '유통업', '전기가스업', '건설업', '운수창고업', '통신업',\n",
      "       '금융업', '은행', '증권', '보험', '서비스업', '제조업', '코스피 대형주', '코스피 중형주', '코스피 소형주',\n",
      "       '코스피 200 비중상한 30%', '코스피 200 비중상한 25%', '코스피 200 비중상한 20%'],\n",
      "      dtype='object', name='지수명')\n"
     ]
    }
   ],
   "source": [
    "df = stock.get_index_price_change_by_ticker(\"20200520\", \"20200527\", \"KOSPI\")\n",
    "print(df)\n",
    "import sys\n",
    "mod = sys.modules[__name__]\n",
    "index_list = df.index\n",
    "for idx in range(len(df.index)) :\n",
    "    setattr(mod, 'Kp_idx_{}'.format(idx), [])\n",
    "\n",
    "print(index_list)"
   ]
  },
  {
   "cell_type": "code",
   "execution_count": 18,
   "metadata": {},
   "outputs": [
    {
     "name": "stderr",
     "output_type": "stream",
     "text": [
      "100%|██████████| 2652/2652 [54:05<00:00,  1.22s/it]\n",
      " 35%|███▍      | 16/46 [00:00<00:00, 44.84it/s]"
     ]
    },
    {
     "name": "stdout",
     "output_type": "stream",
     "text": [
      "코스피 200 철강/소재\n",
      "코스피 200 에너지/화학\n"
     ]
    },
    {
     "name": "stderr",
     "output_type": "stream",
     "text": [
      "100%|██████████| 46/46 [00:01<00:00, 37.31it/s]\n"
     ]
    }
   ],
   "source": [
    "# 20010102 부터 하루씩 코스닥의 종류별 지수를 받아옴\n",
    " \n",
    "for i in tqdm(range(len(date_df)-1)) :\n",
    "    try : \n",
    "        df = stock.get_index_price_change_by_ticker(date_df.iloc[i].values[0], date_df.iloc[i+1].values[0], \"KOSPI\")\n",
    "        time.sleep(1)\n",
    "    except :\n",
    "        continue\n",
    "    for j in range(len(index_list)) :\n",
    "        if len(getattr(mod, 'Kp_idx_{}'.format(j)))==0 :\n",
    "            try : \n",
    "                tmp = pd.DataFrame(df.loc[index_list[j]])\n",
    "                tmp = tmp.transpose()\n",
    "                tmp.rename(index = {index_list[j] : date_df_stamp[i]}, inplace = True)\n",
    "                setattr(mod, 'Kp_idx_{}'.format(j),tmp)\n",
    "            except :\n",
    "                continue\n",
    "        else :\n",
    "            try : \n",
    "                tmp = pd.DataFrame(df.loc[index_list[j]])\n",
    "                tmp = tmp.transpose()\n",
    "                tmp.rename(index = {index_list[j] : date_df_stamp[i]}, inplace = True)\n",
    "                result = getattr(mod, 'Kp_idx_{}'.format(j)).append(tmp)\n",
    "                setattr(mod, 'Kp_idx_{}'.format(j),result)\n",
    "            except :\n",
    "                continue\n",
    "\n",
    "for j in tqdm(range(len(index_list))) :\n",
    "    try :\n",
    "        pd.DataFrame(getattr(mod, 'Kp_idx_{}'.format(j))).to_csv('Kp'+str(index_list[j])+'.csv', index = True, header = True)\n",
    "    except :\n",
    "        print (str(index_list[j]))\n"
   ]
  }
 ],
 "metadata": {
  "interpreter": {
   "hash": "74cce03cd6e5f37497e19be7eac3c23efdb0986fe95742d5b60a26c90b6951fc"
  },
  "kernelspec": {
   "display_name": "Python 3.9.2 64-bit (system)",
   "name": "python3"
  },
  "language_info": {
   "codemirror_mode": {
    "name": "ipython",
    "version": 3
   },
   "file_extension": ".py",
   "mimetype": "text/x-python",
   "name": "python",
   "nbconvert_exporter": "python",
   "pygments_lexer": "ipython3",
   "version": "3.9.2"
  }
 },
 "nbformat": 4,
 "nbformat_minor": 5
}
